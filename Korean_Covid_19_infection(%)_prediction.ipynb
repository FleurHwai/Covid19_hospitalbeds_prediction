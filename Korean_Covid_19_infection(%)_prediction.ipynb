{
 "cells": [
  {
   "cell_type": "markdown",
   "metadata": {},
   "source": [
    "# Korean Covid 19 infection percentage prediction\n",
    "\n",
    "As we find the regression model in each clusters, now I'd like to use them to predict Korean Covid-19 infection percentage.\n",
    "\n",
    "##### Here, I used data from US_state_hospitalbeds to fit modules and team-made Korean data."
   ]
  },
  {
   "cell_type": "markdown",
   "metadata": {},
   "source": [
    "## 1. Fit Cluster and Linear Regression Model"
   ]
  },
  {
   "cell_type": "markdown",
   "metadata": {},
   "source": [
    "### Fitting Cluster"
   ]
  },
  {
   "cell_type": "code",
   "execution_count": 1,
   "metadata": {},
   "outputs": [],
   "source": [
    "import numpy as np\n",
    "import pandas as pd"
   ]
  },
  {
   "cell_type": "code",
   "execution_count": 2,
   "metadata": {},
   "outputs": [
    {
     "data": {
      "text/html": [
       "<div>\n",
       "<style scoped>\n",
       "    .dataframe tbody tr th:only-of-type {\n",
       "        vertical-align: middle;\n",
       "    }\n",
       "\n",
       "    .dataframe tbody tr th {\n",
       "        vertical-align: top;\n",
       "    }\n",
       "\n",
       "    .dataframe thead th {\n",
       "        text-align: right;\n",
       "    }\n",
       "</style>\n",
       "<table border=\"1\" class=\"dataframe\">\n",
       "  <thead>\n",
       "    <tr style=\"text-align: right;\">\n",
       "      <th></th>\n",
       "      <th>State</th>\n",
       "      <th>LandArea</th>\n",
       "      <th>Density</th>\n",
       "      <th>Population</th>\n",
       "      <th>Total Hospital Beds</th>\n",
       "      <th>Total ICU Beds</th>\n",
       "    </tr>\n",
       "  </thead>\n",
       "  <tbody>\n",
       "    <tr>\n",
       "      <th>0</th>\n",
       "      <td>Alabama</td>\n",
       "      <td>50645</td>\n",
       "      <td>97.4271</td>\n",
       "      <td>4934193</td>\n",
       "      <td>14793.0</td>\n",
       "      <td>1903.0</td>\n",
       "    </tr>\n",
       "    <tr>\n",
       "      <th>1</th>\n",
       "      <td>Alaska</td>\n",
       "      <td>570641</td>\n",
       "      <td>1.2694</td>\n",
       "      <td>724357</td>\n",
       "      <td>1583.0</td>\n",
       "      <td>130.0</td>\n",
       "    </tr>\n",
       "    <tr>\n",
       "      <th>2</th>\n",
       "      <td>Arizona</td>\n",
       "      <td>113594</td>\n",
       "      <td>66.2016</td>\n",
       "      <td>7520103</td>\n",
       "      <td>12590.0</td>\n",
       "      <td>1702.0</td>\n",
       "    </tr>\n",
       "    <tr>\n",
       "      <th>3</th>\n",
       "      <td>Arkansas</td>\n",
       "      <td>52035</td>\n",
       "      <td>58.3059</td>\n",
       "      <td>3033946</td>\n",
       "      <td>8560.0</td>\n",
       "      <td>908.0</td>\n",
       "    </tr>\n",
       "    <tr>\n",
       "      <th>4</th>\n",
       "      <td>California</td>\n",
       "      <td>155779</td>\n",
       "      <td>254.2929</td>\n",
       "      <td>39613493</td>\n",
       "      <td>68074.0</td>\n",
       "      <td>8105.0</td>\n",
       "    </tr>\n",
       "  </tbody>\n",
       "</table>\n",
       "</div>"
      ],
      "text/plain": [
       "        State  LandArea   Density  Population  Total Hospital Beds  \\\n",
       "0     Alabama     50645   97.4271     4934193              14793.0   \n",
       "1      Alaska    570641    1.2694      724357               1583.0   \n",
       "2     Arizona    113594   66.2016     7520103              12590.0   \n",
       "3    Arkansas     52035   58.3059     3033946               8560.0   \n",
       "4  California    155779  254.2929    39613493              68074.0   \n",
       "\n",
       "   Total ICU Beds  \n",
       "0          1903.0  \n",
       "1           130.0  \n",
       "2          1702.0  \n",
       "3           908.0  \n",
       "4          8105.0  "
      ]
     },
     "execution_count": 2,
     "metadata": {},
     "output_type": "execute_result"
    }
   ],
   "source": [
    "# Load cluster data\n",
    "data_1=pd.read_csv(\"datasets/population_beds.csv\")\n",
    "data_1.drop(['Unnamed: 0'],axis=1,inplace=True)\n",
    "data_1.head()"
   ]
  },
  {
   "cell_type": "code",
   "execution_count": 5,
   "metadata": {},
   "outputs": [
    {
     "data": {
      "text/plain": [
       "KMeans(max_iter=500, n_clusters=3, random_state=144)"
      ]
     },
     "execution_count": 5,
     "metadata": {},
     "output_type": "execute_result"
    }
   ],
   "source": [
    "# Fitting KMeans cluster module by \"Total Hospital Beds\" (n_clusters=3)\n",
    "from sklearn.cluster import KMeans\n",
    "\n",
    "kmeans=KMeans(n_clusters=3,random_state=144,max_iter=500)\n",
    "kmeans.fit(data_1[[\"Total Hospital Beds\"]])"
   ]
  },
  {
   "cell_type": "code",
   "execution_count": 6,
   "metadata": {},
   "outputs": [
    {
     "data": {
      "text/plain": [
       "array([1, 1, 1, 1, 2, 1, 1, 1, 2, 0, 1, 1, 0, 0, 1, 1, 1, 1, 1, 1, 1, 0,\n",
       "       1, 1, 0, 1, 1, 1, 1, 0, 1, 2, 0, 1, 0, 1, 1, 0, 1, 1, 1, 0, 2, 1,\n",
       "       1, 0, 1, 1, 1, 1])"
      ]
     },
     "execution_count": 6,
     "metadata": {},
     "output_type": "execute_result"
    }
   ],
   "source": [
    "kmeans.labels_"
   ]
  },
  {
   "cell_type": "markdown",
   "metadata": {},
   "source": [
    "### Fitting Regression Model"
   ]
  },
  {
   "cell_type": "code",
   "execution_count": 7,
   "metadata": {},
   "outputs": [
    {
     "data": {
      "text/html": [
       "<div>\n",
       "<style scoped>\n",
       "    .dataframe tbody tr th:only-of-type {\n",
       "        vertical-align: middle;\n",
       "    }\n",
       "\n",
       "    .dataframe tbody tr th {\n",
       "        vertical-align: top;\n",
       "    }\n",
       "\n",
       "    .dataframe thead th {\n",
       "        text-align: right;\n",
       "    }\n",
       "</style>\n",
       "<table border=\"1\" class=\"dataframe\">\n",
       "  <thead>\n",
       "    <tr style=\"text-align: right;\">\n",
       "      <th></th>\n",
       "      <th>State</th>\n",
       "      <th>LandArea</th>\n",
       "      <th>Density</th>\n",
       "      <th>Population</th>\n",
       "      <th>Total Hospital Beds</th>\n",
       "      <th>Total ICU Beds</th>\n",
       "      <th>0</th>\n",
       "      <th>1</th>\n",
       "      <th>2</th>\n",
       "      <th>3</th>\n",
       "      <th>...</th>\n",
       "      <th>444</th>\n",
       "      <th>445</th>\n",
       "      <th>446</th>\n",
       "      <th>447</th>\n",
       "      <th>448</th>\n",
       "      <th>449</th>\n",
       "      <th>450</th>\n",
       "      <th>451</th>\n",
       "      <th>452</th>\n",
       "      <th>453</th>\n",
       "    </tr>\n",
       "  </thead>\n",
       "  <tbody>\n",
       "    <tr>\n",
       "      <th>0</th>\n",
       "      <td>Alabama</td>\n",
       "      <td>50645</td>\n",
       "      <td>97.4271</td>\n",
       "      <td>4934193</td>\n",
       "      <td>14793.0</td>\n",
       "      <td>1903.0</td>\n",
       "      <td>0.0008</td>\n",
       "      <td>0.0008</td>\n",
       "      <td>0.0009</td>\n",
       "      <td>0.0009</td>\n",
       "      <td>...</td>\n",
       "      <td>0.1117</td>\n",
       "      <td>0.1117</td>\n",
       "      <td>0.1117</td>\n",
       "      <td>0.1117</td>\n",
       "      <td>0.1117</td>\n",
       "      <td>0.1117</td>\n",
       "      <td>0.1121</td>\n",
       "      <td>0.1121</td>\n",
       "      <td>0.1123</td>\n",
       "      <td>0.1124</td>\n",
       "    </tr>\n",
       "    <tr>\n",
       "      <th>1</th>\n",
       "      <td>Alaska</td>\n",
       "      <td>570641</td>\n",
       "      <td>1.2694</td>\n",
       "      <td>724357</td>\n",
       "      <td>1583.0</td>\n",
       "      <td>130.0</td>\n",
       "      <td>0.0004</td>\n",
       "      <td>0.0004</td>\n",
       "      <td>0.0004</td>\n",
       "      <td>0.0004</td>\n",
       "      <td>...</td>\n",
       "      <td>0.0984</td>\n",
       "      <td>0.0985</td>\n",
       "      <td>0.0985</td>\n",
       "      <td>0.0985</td>\n",
       "      <td>0.0985</td>\n",
       "      <td>0.0985</td>\n",
       "      <td>0.0988</td>\n",
       "      <td>0.0988</td>\n",
       "      <td>0.0990</td>\n",
       "      <td>0.0990</td>\n",
       "    </tr>\n",
       "    <tr>\n",
       "      <th>2</th>\n",
       "      <td>Arizona</td>\n",
       "      <td>113594</td>\n",
       "      <td>66.2016</td>\n",
       "      <td>7520103</td>\n",
       "      <td>12590.0</td>\n",
       "      <td>1702.0</td>\n",
       "      <td>0.0005</td>\n",
       "      <td>0.0005</td>\n",
       "      <td>0.0005</td>\n",
       "      <td>0.0006</td>\n",
       "      <td>...</td>\n",
       "      <td>0.1191</td>\n",
       "      <td>0.1191</td>\n",
       "      <td>0.1192</td>\n",
       "      <td>0.1193</td>\n",
       "      <td>0.1193</td>\n",
       "      <td>0.1194</td>\n",
       "      <td>0.1195</td>\n",
       "      <td>0.1195</td>\n",
       "      <td>0.1197</td>\n",
       "      <td>0.1198</td>\n",
       "    </tr>\n",
       "    <tr>\n",
       "      <th>3</th>\n",
       "      <td>Arkansas</td>\n",
       "      <td>52035</td>\n",
       "      <td>58.3059</td>\n",
       "      <td>3033946</td>\n",
       "      <td>8560.0</td>\n",
       "      <td>908.0</td>\n",
       "      <td>0.0005</td>\n",
       "      <td>0.0005</td>\n",
       "      <td>0.0005</td>\n",
       "      <td>0.0005</td>\n",
       "      <td>...</td>\n",
       "      <td>0.1154</td>\n",
       "      <td>0.1156</td>\n",
       "      <td>0.1156</td>\n",
       "      <td>0.1156</td>\n",
       "      <td>0.1160</td>\n",
       "      <td>0.1161</td>\n",
       "      <td>0.1164</td>\n",
       "      <td>0.1168</td>\n",
       "      <td>0.1172</td>\n",
       "      <td>0.1172</td>\n",
       "    </tr>\n",
       "    <tr>\n",
       "      <th>4</th>\n",
       "      <td>California</td>\n",
       "      <td>155779</td>\n",
       "      <td>254.2929</td>\n",
       "      <td>39613493</td>\n",
       "      <td>68074.0</td>\n",
       "      <td>8105.0</td>\n",
       "      <td>0.0006</td>\n",
       "      <td>0.0006</td>\n",
       "      <td>0.0007</td>\n",
       "      <td>0.0007</td>\n",
       "      <td>...</td>\n",
       "      <td>0.0964</td>\n",
       "      <td>0.0964</td>\n",
       "      <td>0.0964</td>\n",
       "      <td>0.0965</td>\n",
       "      <td>0.0965</td>\n",
       "      <td>0.0965</td>\n",
       "      <td>0.0966</td>\n",
       "      <td>0.0967</td>\n",
       "      <td>0.0967</td>\n",
       "      <td>0.0968</td>\n",
       "    </tr>\n",
       "  </tbody>\n",
       "</table>\n",
       "<p>5 rows × 460 columns</p>\n",
       "</div>"
      ],
      "text/plain": [
       "        State  LandArea   Density  Population  Total Hospital Beds  \\\n",
       "0     Alabama     50645   97.4271     4934193              14793.0   \n",
       "1      Alaska    570641    1.2694      724357               1583.0   \n",
       "2     Arizona    113594   66.2016     7520103              12590.0   \n",
       "3    Arkansas     52035   58.3059     3033946               8560.0   \n",
       "4  California    155779  254.2929    39613493              68074.0   \n",
       "\n",
       "   Total ICU Beds       0       1       2       3  ...     444     445  \\\n",
       "0          1903.0  0.0008  0.0008  0.0009  0.0009  ...  0.1117  0.1117   \n",
       "1           130.0  0.0004  0.0004  0.0004  0.0004  ...  0.0984  0.0985   \n",
       "2          1702.0  0.0005  0.0005  0.0005  0.0006  ...  0.1191  0.1191   \n",
       "3           908.0  0.0005  0.0005  0.0005  0.0005  ...  0.1154  0.1156   \n",
       "4          8105.0  0.0006  0.0006  0.0007  0.0007  ...  0.0964  0.0964   \n",
       "\n",
       "      446     447     448     449     450     451     452     453  \n",
       "0  0.1117  0.1117  0.1117  0.1117  0.1121  0.1121  0.1123  0.1124  \n",
       "1  0.0985  0.0985  0.0985  0.0985  0.0988  0.0988  0.0990  0.0990  \n",
       "2  0.1192  0.1193  0.1193  0.1194  0.1195  0.1195  0.1197  0.1198  \n",
       "3  0.1156  0.1156  0.1160  0.1161  0.1164  0.1168  0.1172  0.1172  \n",
       "4  0.0964  0.0965  0.0965  0.0965  0.0966  0.0967  0.0967  0.0968  \n",
       "\n",
       "[5 rows x 460 columns]"
      ]
     },
     "execution_count": 7,
     "metadata": {},
     "output_type": "execute_result"
    }
   ],
   "source": [
    "# Load Regression Data\n",
    "data_2=pd.read_csv(\"datasets/final_data.csv\")\n",
    "data_2.drop(['Unnamed: 0'],inplace=True,axis=1)\n",
    "data_2.head()"
   ]
  },
  {
   "cell_type": "code",
   "execution_count": 8,
   "metadata": {},
   "outputs": [],
   "source": [
    "# Select only useful columns in predicting regression model : State, Density, Total Hospital Beds, Day 448 anf 453\n",
    "data=pd.DataFrame(data_2['Density'])\n",
    "data['Total Hospital Beds']=data_2['Total Hospital Beds']\n",
    "data['Lag 5']=data_2.iloc[:,448]\n",
    "data['Confirmed(%)']=data_2.iloc[:,453]"
   ]
  },
  {
   "cell_type": "code",
   "execution_count": 9,
   "metadata": {},
   "outputs": [],
   "source": [
    "# Add Cluster\n",
    "data['Cluster']=kmeans.labels_"
   ]
  },
  {
   "cell_type": "code",
   "execution_count": 10,
   "metadata": {},
   "outputs": [
    {
     "data": {
      "text/plain": [
       "1    35\n",
       "0    11\n",
       "2     4\n",
       "Name: Cluster, dtype: int64"
      ]
     },
     "execution_count": 10,
     "metadata": {},
     "output_type": "execute_result"
    }
   ],
   "source": [
    "data['Cluster'].value_counts()"
   ]
  },
  {
   "cell_type": "code",
   "execution_count": 11,
   "metadata": {},
   "outputs": [
    {
     "data": {
      "text/html": [
       "<div>\n",
       "<style scoped>\n",
       "    .dataframe tbody tr th:only-of-type {\n",
       "        vertical-align: middle;\n",
       "    }\n",
       "\n",
       "    .dataframe tbody tr th {\n",
       "        vertical-align: top;\n",
       "    }\n",
       "\n",
       "    .dataframe thead th {\n",
       "        text-align: right;\n",
       "    }\n",
       "</style>\n",
       "<table border=\"1\" class=\"dataframe\">\n",
       "  <thead>\n",
       "    <tr style=\"text-align: right;\">\n",
       "      <th></th>\n",
       "      <th>Density</th>\n",
       "      <th>Total Hospital Beds</th>\n",
       "      <th>Lag 5</th>\n",
       "      <th>Confirmed(%)</th>\n",
       "      <th>Cluster</th>\n",
       "    </tr>\n",
       "  </thead>\n",
       "  <tbody>\n",
       "    <tr>\n",
       "      <th>0</th>\n",
       "      <td>97.4271</td>\n",
       "      <td>14793.0</td>\n",
       "      <td>0.1116</td>\n",
       "      <td>0.1117</td>\n",
       "      <td>1</td>\n",
       "    </tr>\n",
       "    <tr>\n",
       "      <th>1</th>\n",
       "      <td>1.2694</td>\n",
       "      <td>1583.0</td>\n",
       "      <td>0.0983</td>\n",
       "      <td>0.0985</td>\n",
       "      <td>1</td>\n",
       "    </tr>\n",
       "    <tr>\n",
       "      <th>2</th>\n",
       "      <td>66.2016</td>\n",
       "      <td>12590.0</td>\n",
       "      <td>0.1189</td>\n",
       "      <td>0.1193</td>\n",
       "      <td>1</td>\n",
       "    </tr>\n",
       "    <tr>\n",
       "      <th>3</th>\n",
       "      <td>58.3059</td>\n",
       "      <td>8560.0</td>\n",
       "      <td>0.1149</td>\n",
       "      <td>0.1156</td>\n",
       "      <td>1</td>\n",
       "    </tr>\n",
       "    <tr>\n",
       "      <th>4</th>\n",
       "      <td>254.2929</td>\n",
       "      <td>68074.0</td>\n",
       "      <td>0.0964</td>\n",
       "      <td>0.0965</td>\n",
       "      <td>2</td>\n",
       "    </tr>\n",
       "  </tbody>\n",
       "</table>\n",
       "</div>"
      ],
      "text/plain": [
       "    Density  Total Hospital Beds   Lag 5  Confirmed(%)  Cluster\n",
       "0   97.4271              14793.0  0.1116        0.1117        1\n",
       "1    1.2694               1583.0  0.0983        0.0985        1\n",
       "2   66.2016              12590.0  0.1189        0.1193        1\n",
       "3   58.3059               8560.0  0.1149        0.1156        1\n",
       "4  254.2929              68074.0  0.0964        0.0965        2"
      ]
     },
     "execution_count": 11,
     "metadata": {},
     "output_type": "execute_result"
    }
   ],
   "source": [
    "data.head()"
   ]
  },
  {
   "cell_type": "code",
   "execution_count": 12,
   "metadata": {},
   "outputs": [],
   "source": [
    "# DataFrame grouped by Clusters\n",
    "data0=data[data['Cluster']==0]\n",
    "data1=data[data['Cluster']==1]\n",
    "data2=data[data['Cluster']==2]"
   ]
  },
  {
   "cell_type": "code",
   "execution_count": 13,
   "metadata": {},
   "outputs": [
    {
     "name": "stdout",
     "output_type": "stream",
     "text": [
      "11\n",
      "35\n",
      "4\n"
     ]
    }
   ],
   "source": [
    "print(len(data0))\n",
    "print(len(data1))\n",
    "print(len(data2))"
   ]
  },
  {
   "cell_type": "code",
   "execution_count": 14,
   "metadata": {},
   "outputs": [
    {
     "name": "stderr",
     "output_type": "stream",
     "text": [
      "C:\\Users\\CHOI\\anaconda3\\lib\\site-packages\\pandas\\core\\frame.py:4163: SettingWithCopyWarning: \n",
      "A value is trying to be set on a copy of a slice from a DataFrame\n",
      "\n",
      "See the caveats in the documentation: https://pandas.pydata.org/pandas-docs/stable/user_guide/indexing.html#returning-a-view-versus-a-copy\n",
      "  return super().drop(\n"
     ]
    }
   ],
   "source": [
    "data0.drop(['Cluster'],axis=1,inplace=True)\n",
    "data1.drop(['Cluster'],axis=1,inplace=True)\n",
    "data2.drop(['Cluster'],axis=1,inplace=True)"
   ]
  },
  {
   "cell_type": "markdown",
   "metadata": {},
   "source": [
    "**(1) cluster = 0**"
   ]
  },
  {
   "cell_type": "code",
   "execution_count": 15,
   "metadata": {},
   "outputs": [
    {
     "data": {
      "text/plain": [
       "LinearRegression()"
      ]
     },
     "execution_count": 15,
     "metadata": {},
     "output_type": "execute_result"
    }
   ],
   "source": [
    "from sklearn.linear_model import LinearRegression\n",
    "\n",
    "X_features=data0.drop(['Confirmed(%)'],axis=1)\n",
    "y_target=data0['Confirmed(%)']\n",
    "\n",
    "linear_reg0=LinearRegression()\n",
    "linear_reg0.fit(X_features,y_target)"
   ]
  },
  {
   "cell_type": "code",
   "execution_count": 16,
   "metadata": {},
   "outputs": [
    {
     "data": {
      "text/plain": [
       "array([-1.99169667e-07, -7.74848263e-09,  9.99092435e-01])"
      ]
     },
     "execution_count": 16,
     "metadata": {},
     "output_type": "execute_result"
    }
   ],
   "source": [
    "linear_reg0.coef_"
   ]
  },
  {
   "cell_type": "markdown",
   "metadata": {},
   "source": [
    "**(2) cluster = 1**"
   ]
  },
  {
   "cell_type": "code",
   "execution_count": 17,
   "metadata": {},
   "outputs": [
    {
     "data": {
      "text/plain": [
       "LinearRegression()"
      ]
     },
     "execution_count": 17,
     "metadata": {},
     "output_type": "execute_result"
    }
   ],
   "source": [
    "X_features=data1.drop(['Confirmed(%)'],axis=1)\n",
    "y_target=data1['Confirmed(%)']\n",
    "\n",
    "linear_reg1=LinearRegression()\n",
    "linear_reg1.fit(X_features,y_target)"
   ]
  },
  {
   "cell_type": "code",
   "execution_count": 18,
   "metadata": {},
   "outputs": [
    {
     "data": {
      "text/plain": [
       "array([-1.93002091e-07, -7.47275621e-10,  1.00157016e+00])"
      ]
     },
     "execution_count": 18,
     "metadata": {},
     "output_type": "execute_result"
    }
   ],
   "source": [
    "linear_reg1.coef_"
   ]
  },
  {
   "cell_type": "markdown",
   "metadata": {},
   "source": [
    "**(3) cluster = 2**"
   ]
  },
  {
   "cell_type": "code",
   "execution_count": 19,
   "metadata": {},
   "outputs": [
    {
     "data": {
      "text/plain": [
       "LinearRegression()"
      ]
     },
     "execution_count": 19,
     "metadata": {},
     "output_type": "execute_result"
    }
   ],
   "source": [
    "X_features=data2.drop(['Confirmed(%)'],axis=1)\n",
    "y_target=data2['Confirmed(%)']\n",
    "\n",
    "linear_reg2=LinearRegression()\n",
    "linear_reg2.fit(X_features,y_target)"
   ]
  },
  {
   "cell_type": "code",
   "execution_count": 20,
   "metadata": {},
   "outputs": [
    {
     "data": {
      "text/plain": [
       "array([-4.35421262e-05,  1.26585805e-06,  3.23559014e+00])"
      ]
     },
     "execution_count": 20,
     "metadata": {},
     "output_type": "execute_result"
    }
   ],
   "source": [
    "linear_reg2.coef_"
   ]
  },
  {
   "cell_type": "markdown",
   "metadata": {},
   "source": [
    "## 2. Predict Korean Covid-19 Infection percentage (%)"
   ]
  },
  {
   "cell_type": "code",
   "execution_count": 21,
   "metadata": {},
   "outputs": [],
   "source": [
    "# Load data\n",
    "korea=pd.read_csv(\"datasets/koreadata.csv\")"
   ]
  },
  {
   "cell_type": "code",
   "execution_count": 22,
   "metadata": {},
   "outputs": [
    {
     "data": {
      "text/plain": [
       "(17, 7)"
      ]
     },
     "execution_count": 22,
     "metadata": {},
     "output_type": "execute_result"
    }
   ],
   "source": [
    "korea.shape"
   ]
  },
  {
   "cell_type": "code",
   "execution_count": 23,
   "metadata": {},
   "outputs": [
    {
     "data": {
      "text/html": [
       "<div>\n",
       "<style scoped>\n",
       "    .dataframe tbody tr th:only-of-type {\n",
       "        vertical-align: middle;\n",
       "    }\n",
       "\n",
       "    .dataframe tbody tr th {\n",
       "        vertical-align: top;\n",
       "    }\n",
       "\n",
       "    .dataframe thead th {\n",
       "        text-align: right;\n",
       "    }\n",
       "</style>\n",
       "<table border=\"1\" class=\"dataframe\">\n",
       "  <thead>\n",
       "    <tr style=\"text-align: right;\">\n",
       "      <th></th>\n",
       "      <th>Province</th>\n",
       "      <th>PopDensity</th>\n",
       "      <th>HosBeds(2019)</th>\n",
       "      <th>Confirmed</th>\n",
       "      <th>Death</th>\n",
       "      <th>Recovered</th>\n",
       "      <th>Popularity</th>\n",
       "    </tr>\n",
       "  </thead>\n",
       "  <tbody>\n",
       "    <tr>\n",
       "      <th>0</th>\n",
       "      <td>Seoul</td>\n",
       "      <td>15865</td>\n",
       "      <td>57142</td>\n",
       "      <td>30635</td>\n",
       "      <td>88</td>\n",
       "      <td>30245</td>\n",
       "      <td>51781000</td>\n",
       "    </tr>\n",
       "    <tr>\n",
       "      <th>1</th>\n",
       "      <td>Busan</td>\n",
       "      <td>4342</td>\n",
       "      <td>6925</td>\n",
       "      <td>4291</td>\n",
       "      <td>72</td>\n",
       "      <td>4471</td>\n",
       "      <td>9602000</td>\n",
       "    </tr>\n",
       "    <tr>\n",
       "      <th>2</th>\n",
       "      <td>Daegu</td>\n",
       "      <td>2738</td>\n",
       "      <td>10933</td>\n",
       "      <td>2754</td>\n",
       "      <td>4</td>\n",
       "      <td>3055</td>\n",
       "      <td>3344000</td>\n",
       "    </tr>\n",
       "    <tr>\n",
       "      <th>3</th>\n",
       "      <td>Incheon</td>\n",
       "      <td>2770</td>\n",
       "      <td>7682</td>\n",
       "      <td>3863</td>\n",
       "      <td>4</td>\n",
       "      <td>3788</td>\n",
       "      <td>2419000</td>\n",
       "    </tr>\n",
       "    <tr>\n",
       "      <th>4</th>\n",
       "      <td>Gwangju</td>\n",
       "      <td>2969</td>\n",
       "      <td>3106</td>\n",
       "      <td>1839</td>\n",
       "      <td>3</td>\n",
       "      <td>1784</td>\n",
       "      <td>1488000</td>\n",
       "    </tr>\n",
       "  </tbody>\n",
       "</table>\n",
       "</div>"
      ],
      "text/plain": [
       "  Province  PopDensity  HosBeds(2019)  Confirmed  Death  Recovered  Popularity\n",
       "0    Seoul       15865          57142      30635     88      30245    51781000\n",
       "1    Busan        4342           6925       4291     72       4471     9602000\n",
       "2    Daegu        2738          10933       2754      4       3055     3344000\n",
       "3  Incheon        2770           7682       3863      4       3788     2419000\n",
       "4  Gwangju        2969           3106       1839      3       1784     1488000"
      ]
     },
     "execution_count": 23,
     "metadata": {},
     "output_type": "execute_result"
    }
   ],
   "source": [
    "korea.head()"
   ]
  },
  {
   "cell_type": "code",
   "execution_count": 24,
   "metadata": {},
   "outputs": [],
   "source": [
    "# Drop unnecessary columns in predicting\n",
    "korea.drop(['Death','Recovered'],axis=1,inplace=True)"
   ]
  },
  {
   "cell_type": "code",
   "execution_count": 25,
   "metadata": {},
   "outputs": [],
   "source": [
    "# Rename HosBeds(2019) as Beds\n",
    "korea.rename(columns={'HosBeds(2019)':'Beds'},inplace=True)"
   ]
  },
  {
   "cell_type": "code",
   "execution_count": 26,
   "metadata": {},
   "outputs": [],
   "source": [
    "# Make \"Confirmed\" column into \"Confirmed(%)\" & Drop \"Popularity\"\n",
    "korea['Confirmed']=korea['Confirmed']/korea['Popularity']\n",
    "korea.rename(columns={'Confirmed':'Confirmed(%)'},inplace=True)\n",
    "korea.drop(['Popularity'],axis=1,inplace=True)"
   ]
  },
  {
   "cell_type": "markdown",
   "metadata": {},
   "source": [
    "### Clustering\n",
    "Here, we will use KMeans cluster module fitted by Total Hospital Beds above to cluster korean states by the same criteria."
   ]
  },
  {
   "cell_type": "code",
   "execution_count": 27,
   "metadata": {},
   "outputs": [],
   "source": [
    "korea['cluster']=kmeans.predict(korea[['Beds']])"
   ]
  },
  {
   "cell_type": "code",
   "execution_count": 28,
   "metadata": {},
   "outputs": [
    {
     "data": {
      "text/html": [
       "<div>\n",
       "<style scoped>\n",
       "    .dataframe tbody tr th:only-of-type {\n",
       "        vertical-align: middle;\n",
       "    }\n",
       "\n",
       "    .dataframe tbody tr th {\n",
       "        vertical-align: top;\n",
       "    }\n",
       "\n",
       "    .dataframe thead th {\n",
       "        text-align: right;\n",
       "    }\n",
       "</style>\n",
       "<table border=\"1\" class=\"dataframe\">\n",
       "  <thead>\n",
       "    <tr style=\"text-align: right;\">\n",
       "      <th></th>\n",
       "      <th>Province</th>\n",
       "      <th>PopDensity</th>\n",
       "      <th>Beds</th>\n",
       "      <th>Confirmed(%)</th>\n",
       "      <th>cluster</th>\n",
       "    </tr>\n",
       "  </thead>\n",
       "  <tbody>\n",
       "    <tr>\n",
       "      <th>0</th>\n",
       "      <td>Seoul</td>\n",
       "      <td>15865</td>\n",
       "      <td>57142</td>\n",
       "      <td>0.000592</td>\n",
       "      <td>2</td>\n",
       "    </tr>\n",
       "    <tr>\n",
       "      <th>1</th>\n",
       "      <td>Busan</td>\n",
       "      <td>4342</td>\n",
       "      <td>6925</td>\n",
       "      <td>0.000447</td>\n",
       "      <td>1</td>\n",
       "    </tr>\n",
       "    <tr>\n",
       "      <th>2</th>\n",
       "      <td>Daegu</td>\n",
       "      <td>2738</td>\n",
       "      <td>10933</td>\n",
       "      <td>0.000824</td>\n",
       "      <td>1</td>\n",
       "    </tr>\n",
       "    <tr>\n",
       "      <th>3</th>\n",
       "      <td>Incheon</td>\n",
       "      <td>2770</td>\n",
       "      <td>7682</td>\n",
       "      <td>0.001597</td>\n",
       "      <td>1</td>\n",
       "    </tr>\n",
       "    <tr>\n",
       "      <th>4</th>\n",
       "      <td>Gwangju</td>\n",
       "      <td>2969</td>\n",
       "      <td>3106</td>\n",
       "      <td>0.001236</td>\n",
       "      <td>1</td>\n",
       "    </tr>\n",
       "  </tbody>\n",
       "</table>\n",
       "</div>"
      ],
      "text/plain": [
       "  Province  PopDensity   Beds  Confirmed(%)  cluster\n",
       "0    Seoul       15865  57142      0.000592        2\n",
       "1    Busan        4342   6925      0.000447        1\n",
       "2    Daegu        2738  10933      0.000824        1\n",
       "3  Incheon        2770   7682      0.001597        1\n",
       "4  Gwangju        2969   3106      0.001236        1"
      ]
     },
     "execution_count": 28,
     "metadata": {},
     "output_type": "execute_result"
    }
   ],
   "source": [
    "korea.head()"
   ]
  },
  {
   "cell_type": "code",
   "execution_count": 29,
   "metadata": {
    "scrolled": true
   },
   "outputs": [
    {
     "data": {
      "text/plain": [
       "1    15\n",
       "2     2\n",
       "Name: cluster, dtype: int64"
      ]
     },
     "execution_count": 29,
     "metadata": {},
     "output_type": "execute_result"
    }
   ],
   "source": [
    "korea['cluster'].value_counts()"
   ]
  },
  {
   "cell_type": "markdown",
   "metadata": {},
   "source": [
    "There are 15 states in cluster_1 and 2 states in cluster_2."
   ]
  },
  {
   "cell_type": "code",
   "execution_count": 30,
   "metadata": {},
   "outputs": [],
   "source": [
    "# DataFrame group by clusters\n",
    "korea0=korea[korea['cluster']==0]\n",
    "korea1=korea[korea['cluster']==1]\n",
    "korea2=korea[korea['cluster']==2]"
   ]
  },
  {
   "cell_type": "code",
   "execution_count": 31,
   "metadata": {
    "scrolled": true
   },
   "outputs": [
    {
     "name": "stderr",
     "output_type": "stream",
     "text": [
      "C:\\Users\\CHOI\\anaconda3\\lib\\site-packages\\pandas\\core\\frame.py:4163: SettingWithCopyWarning: \n",
      "A value is trying to be set on a copy of a slice from a DataFrame\n",
      "\n",
      "See the caveats in the documentation: https://pandas.pydata.org/pandas-docs/stable/user_guide/indexing.html#returning-a-view-versus-a-copy\n",
      "  return super().drop(\n"
     ]
    }
   ],
   "source": [
    "# Drop cluster column\n",
    "korea0.drop(['cluster'],axis=1,inplace=True)\n",
    "korea1.drop(['cluster'],axis=1,inplace=True)\n",
    "korea2.drop(['cluster'],axis=1,inplace=True)"
   ]
  },
  {
   "cell_type": "code",
   "execution_count": 32,
   "metadata": {},
   "outputs": [
    {
     "data": {
      "text/plain": [
       "array([], dtype=object)"
      ]
     },
     "execution_count": 32,
     "metadata": {},
     "output_type": "execute_result"
    }
   ],
   "source": [
    "# Korea provinces in cluster 0\n",
    "korea0['Province'].values"
   ]
  },
  {
   "cell_type": "code",
   "execution_count": 33,
   "metadata": {},
   "outputs": [
    {
     "data": {
      "text/plain": [
       "array(['Busan', 'Daegu', 'Incheon', 'Gwangju', 'Daejeon', 'Ulsan',\n",
       "       'Sejong', 'Gangwon-do', 'Chungcheongbuk-do', 'Chungcheongnam-do',\n",
       "       'Jeollabuk-do', 'Jeollanam-do', 'Gyeongsangbuk-do',\n",
       "       'Gyeongsangnam-do', 'Jeju'], dtype=object)"
      ]
     },
     "execution_count": 33,
     "metadata": {},
     "output_type": "execute_result"
    }
   ],
   "source": [
    "# Korea provinces in cluster 1\n",
    "korea1['Province'].values"
   ]
  },
  {
   "cell_type": "code",
   "execution_count": 35,
   "metadata": {},
   "outputs": [
    {
     "data": {
      "text/plain": [
       "array(['Seoul', 'Gyeonggi-do'], dtype=object)"
      ]
     },
     "execution_count": 35,
     "metadata": {},
     "output_type": "execute_result"
    }
   ],
   "source": [
    "# Korea provinces in cluster 2\n",
    "korea2['Province'].values"
   ]
  },
  {
   "cell_type": "markdown",
   "metadata": {},
   "source": [
    "### Infection Percentage Prediction"
   ]
  },
  {
   "cell_type": "markdown",
   "metadata": {},
   "source": [
    "**(1) cluster_0**"
   ]
  },
  {
   "cell_type": "markdown",
   "metadata": {},
   "source": [
    "X_features=korea0.drop(['Province'],axis=1)\n",
    "korea0['Prediction']=linear_reg0.predict(X_features)"
   ]
  },
  {
   "cell_type": "markdown",
   "metadata": {},
   "source": [
    "korea0"
   ]
  },
  {
   "cell_type": "code",
   "execution_count": 79,
   "metadata": {},
   "outputs": [
    {
     "data": {
      "text/plain": [
       "array([-1.99169667e-07, -7.74848263e-09,  9.99092435e-01])"
      ]
     },
     "execution_count": 79,
     "metadata": {},
     "output_type": "execute_result"
    }
   ],
   "source": [
    "linear_reg0.coef_"
   ]
  },
  {
   "cell_type": "markdown",
   "metadata": {},
   "source": [
    "**(1) cluster_1**"
   ]
  },
  {
   "cell_type": "code",
   "execution_count": 37,
   "metadata": {},
   "outputs": [
    {
     "name": "stderr",
     "output_type": "stream",
     "text": [
      "<ipython-input-37-ba3323985e68>:2: SettingWithCopyWarning: \n",
      "A value is trying to be set on a copy of a slice from a DataFrame.\n",
      "Try using .loc[row_indexer,col_indexer] = value instead\n",
      "\n",
      "See the caveats in the documentation: https://pandas.pydata.org/pandas-docs/stable/user_guide/indexing.html#returning-a-view-versus-a-copy\n",
      "  korea1['Prediction']=linear_reg1.predict(X_features)\n"
     ]
    }
   ],
   "source": [
    "X_features=korea1.drop(['Province'],axis=1)\n",
    "korea1['Prediction']=linear_reg1.predict(X_features)"
   ]
  },
  {
   "cell_type": "code",
   "execution_count": 38,
   "metadata": {},
   "outputs": [
    {
     "data": {
      "text/html": [
       "<div>\n",
       "<style scoped>\n",
       "    .dataframe tbody tr th:only-of-type {\n",
       "        vertical-align: middle;\n",
       "    }\n",
       "\n",
       "    .dataframe tbody tr th {\n",
       "        vertical-align: top;\n",
       "    }\n",
       "\n",
       "    .dataframe thead th {\n",
       "        text-align: right;\n",
       "    }\n",
       "</style>\n",
       "<table border=\"1\" class=\"dataframe\">\n",
       "  <thead>\n",
       "    <tr style=\"text-align: right;\">\n",
       "      <th></th>\n",
       "      <th>Province</th>\n",
       "      <th>PopDensity</th>\n",
       "      <th>Beds</th>\n",
       "      <th>Confirmed(%)</th>\n",
       "      <th>Prediction</th>\n",
       "    </tr>\n",
       "  </thead>\n",
       "  <tbody>\n",
       "    <tr>\n",
       "      <th>1</th>\n",
       "      <td>Busan</td>\n",
       "      <td>4342</td>\n",
       "      <td>6925</td>\n",
       "      <td>0.000447</td>\n",
       "      <td>-0.000332</td>\n",
       "    </tr>\n",
       "    <tr>\n",
       "      <th>2</th>\n",
       "      <td>Daegu</td>\n",
       "      <td>2738</td>\n",
       "      <td>10933</td>\n",
       "      <td>0.000824</td>\n",
       "      <td>0.000351</td>\n",
       "    </tr>\n",
       "    <tr>\n",
       "      <th>3</th>\n",
       "      <td>Incheon</td>\n",
       "      <td>2770</td>\n",
       "      <td>7682</td>\n",
       "      <td>0.001597</td>\n",
       "      <td>0.001122</td>\n",
       "    </tr>\n",
       "    <tr>\n",
       "      <th>4</th>\n",
       "      <td>Gwangju</td>\n",
       "      <td>2969</td>\n",
       "      <td>3106</td>\n",
       "      <td>0.001236</td>\n",
       "      <td>0.000726</td>\n",
       "    </tr>\n",
       "    <tr>\n",
       "      <th>5</th>\n",
       "      <td>Daejeon</td>\n",
       "      <td>2780</td>\n",
       "      <td>3155</td>\n",
       "      <td>0.001197</td>\n",
       "      <td>0.000723</td>\n",
       "    </tr>\n",
       "    <tr>\n",
       "      <th>6</th>\n",
       "      <td>Ulsan</td>\n",
       "      <td>1073</td>\n",
       "      <td>2992</td>\n",
       "      <td>0.001849</td>\n",
       "      <td>0.001706</td>\n",
       "    </tr>\n",
       "    <tr>\n",
       "      <th>7</th>\n",
       "      <td>Sejong</td>\n",
       "      <td>750</td>\n",
       "      <td>626</td>\n",
       "      <td>0.001175</td>\n",
       "      <td>0.001095</td>\n",
       "    </tr>\n",
       "    <tr>\n",
       "      <th>9</th>\n",
       "      <td>Gangwon-do</td>\n",
       "      <td>90</td>\n",
       "      <td>3823</td>\n",
       "      <td>0.001533</td>\n",
       "      <td>0.001578</td>\n",
       "    </tr>\n",
       "    <tr>\n",
       "      <th>10</th>\n",
       "      <td>Chungcheongbuk-do</td>\n",
       "      <td>220</td>\n",
       "      <td>3442</td>\n",
       "      <td>0.001300</td>\n",
       "      <td>0.001320</td>\n",
       "    </tr>\n",
       "    <tr>\n",
       "      <th>11</th>\n",
       "      <td>Chungcheongnam-do</td>\n",
       "      <td>267</td>\n",
       "      <td>4308</td>\n",
       "      <td>0.000969</td>\n",
       "      <td>0.000979</td>\n",
       "    </tr>\n",
       "    <tr>\n",
       "      <th>12</th>\n",
       "      <td>Jeollabuk-do</td>\n",
       "      <td>222</td>\n",
       "      <td>2500</td>\n",
       "      <td>0.000848</td>\n",
       "      <td>0.000867</td>\n",
       "    </tr>\n",
       "    <tr>\n",
       "      <th>13</th>\n",
       "      <td>Jeollanam-do</td>\n",
       "      <td>143</td>\n",
       "      <td>1778</td>\n",
       "      <td>0.000613</td>\n",
       "      <td>0.000649</td>\n",
       "    </tr>\n",
       "    <tr>\n",
       "      <th>14</th>\n",
       "      <td>Gyeongsangbuk-do</td>\n",
       "      <td>140</td>\n",
       "      <td>5110</td>\n",
       "      <td>0.000942</td>\n",
       "      <td>0.000976</td>\n",
       "    </tr>\n",
       "    <tr>\n",
       "      <th>15</th>\n",
       "      <td>Gyeongsangnam-do</td>\n",
       "      <td>318</td>\n",
       "      <td>5829</td>\n",
       "      <td>0.001160</td>\n",
       "      <td>0.001160</td>\n",
       "    </tr>\n",
       "    <tr>\n",
       "      <th>16</th>\n",
       "      <td>Jeju</td>\n",
       "      <td>362</td>\n",
       "      <td>1452</td>\n",
       "      <td>0.001258</td>\n",
       "      <td>0.001252</td>\n",
       "    </tr>\n",
       "  </tbody>\n",
       "</table>\n",
       "</div>"
      ],
      "text/plain": [
       "             Province  PopDensity   Beds  Confirmed(%)  Prediction\n",
       "1               Busan        4342   6925      0.000447   -0.000332\n",
       "2               Daegu        2738  10933      0.000824    0.000351\n",
       "3             Incheon        2770   7682      0.001597    0.001122\n",
       "4             Gwangju        2969   3106      0.001236    0.000726\n",
       "5             Daejeon        2780   3155      0.001197    0.000723\n",
       "6               Ulsan        1073   2992      0.001849    0.001706\n",
       "7              Sejong         750    626      0.001175    0.001095\n",
       "9          Gangwon-do          90   3823      0.001533    0.001578\n",
       "10  Chungcheongbuk-do         220   3442      0.001300    0.001320\n",
       "11  Chungcheongnam-do         267   4308      0.000969    0.000979\n",
       "12       Jeollabuk-do         222   2500      0.000848    0.000867\n",
       "13       Jeollanam-do         143   1778      0.000613    0.000649\n",
       "14   Gyeongsangbuk-do         140   5110      0.000942    0.000976\n",
       "15   Gyeongsangnam-do         318   5829      0.001160    0.001160\n",
       "16               Jeju         362   1452      0.001258    0.001252"
      ]
     },
     "execution_count": 38,
     "metadata": {},
     "output_type": "execute_result"
    }
   ],
   "source": [
    "korea1"
   ]
  },
  {
   "cell_type": "code",
   "execution_count": 39,
   "metadata": {},
   "outputs": [
    {
     "data": {
      "text/plain": [
       "array([-1.93002091e-07, -7.47275621e-10,  1.00157016e+00])"
      ]
     },
     "execution_count": 39,
     "metadata": {},
     "output_type": "execute_result"
    }
   ],
   "source": [
    "linear_reg1.coef_"
   ]
  },
  {
   "cell_type": "markdown",
   "metadata": {},
   "source": [
    "**(2) cluster_2**"
   ]
  },
  {
   "cell_type": "code",
   "execution_count": 40,
   "metadata": {},
   "outputs": [
    {
     "name": "stderr",
     "output_type": "stream",
     "text": [
      "<ipython-input-40-27f03b88ed31>:2: SettingWithCopyWarning: \n",
      "A value is trying to be set on a copy of a slice from a DataFrame.\n",
      "Try using .loc[row_indexer,col_indexer] = value instead\n",
      "\n",
      "See the caveats in the documentation: https://pandas.pydata.org/pandas-docs/stable/user_guide/indexing.html#returning-a-view-versus-a-copy\n",
      "  korea2['Prediction']=linear_reg2.predict(X_features)\n"
     ]
    }
   ],
   "source": [
    "X_features=korea2.drop(['Province'],axis=1)\n",
    "korea2['Prediction']=linear_reg2.predict(X_features)"
   ]
  },
  {
   "cell_type": "code",
   "execution_count": 41,
   "metadata": {},
   "outputs": [
    {
     "data": {
      "text/html": [
       "<div>\n",
       "<style scoped>\n",
       "    .dataframe tbody tr th:only-of-type {\n",
       "        vertical-align: middle;\n",
       "    }\n",
       "\n",
       "    .dataframe tbody tr th {\n",
       "        vertical-align: top;\n",
       "    }\n",
       "\n",
       "    .dataframe thead th {\n",
       "        text-align: right;\n",
       "    }\n",
       "</style>\n",
       "<table border=\"1\" class=\"dataframe\">\n",
       "  <thead>\n",
       "    <tr style=\"text-align: right;\">\n",
       "      <th></th>\n",
       "      <th>Province</th>\n",
       "      <th>PopDensity</th>\n",
       "      <th>Beds</th>\n",
       "      <th>Confirmed(%)</th>\n",
       "      <th>Prediction</th>\n",
       "    </tr>\n",
       "  </thead>\n",
       "  <tbody>\n",
       "    <tr>\n",
       "      <th>0</th>\n",
       "      <td>Seoul</td>\n",
       "      <td>15865</td>\n",
       "      <td>57142</td>\n",
       "      <td>0.000592</td>\n",
       "      <td>-0.907058</td>\n",
       "    </tr>\n",
       "    <tr>\n",
       "      <th>8</th>\n",
       "      <td>Gyeonggi-do</td>\n",
       "      <td>1315</td>\n",
       "      <td>49588</td>\n",
       "      <td>0.002188</td>\n",
       "      <td>-0.277919</td>\n",
       "    </tr>\n",
       "  </tbody>\n",
       "</table>\n",
       "</div>"
      ],
      "text/plain": [
       "      Province  PopDensity   Beds  Confirmed(%)  Prediction\n",
       "0        Seoul       15865  57142      0.000592   -0.907058\n",
       "8  Gyeonggi-do        1315  49588      0.002188   -0.277919"
      ]
     },
     "execution_count": 41,
     "metadata": {},
     "output_type": "execute_result"
    }
   ],
   "source": [
    "korea2"
   ]
  },
  {
   "cell_type": "code",
   "execution_count": 42,
   "metadata": {},
   "outputs": [
    {
     "data": {
      "text/plain": [
       "array([-4.35421262e-05,  1.26585805e-06,  3.23559014e+00])"
      ]
     },
     "execution_count": 42,
     "metadata": {},
     "output_type": "execute_result"
    }
   ],
   "source": [
    "linear_reg2.coef_"
   ]
  },
  {
   "cell_type": "markdown",
   "metadata": {},
   "source": [
    "## Result\n",
    "**We can find that some predicted values are minus. There are two possible reasons I thought about.**\n",
    "* Because the classification and regression models are fitted by US states' data, the model might have more environmental or social differences than we guessed.\n",
    "* Because Korea's medical infrastructure is much better than that of US, the regression model might predict that, in Korea's facility, Covid 19 would be no more spread.\n",
    "\n",
    "Though we couldn't figure out why the predictions showed minus value, I think this project was meaningful for me to grow my perspective and dealing with lots of errors occurred during data analysis."
   ]
  }
 ],
 "metadata": {
  "kernelspec": {
   "display_name": "Python 3",
   "language": "python",
   "name": "python3"
  },
  "language_info": {
   "codemirror_mode": {
    "name": "ipython",
    "version": 3
   },
   "file_extension": ".py",
   "mimetype": "text/x-python",
   "name": "python",
   "nbconvert_exporter": "python",
   "pygments_lexer": "ipython3",
   "version": "3.8.5"
  }
 },
 "nbformat": 4,
 "nbformat_minor": 4
}
